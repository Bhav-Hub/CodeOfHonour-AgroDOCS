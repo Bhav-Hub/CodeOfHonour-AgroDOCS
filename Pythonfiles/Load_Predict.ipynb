{
 "cells": [
  {
   "cell_type": "code",
   "execution_count": 59,
   "metadata": {},
   "outputs": [],
   "source": [
    "from keras.models import load_model\n",
    "from keras.preprocessing.image import ImageDataGenerator\n",
    "from keras.applications import mobilenet\n",
    "from keras.preprocessing import image\n",
    "from keras.applications.mobilenet import preprocess_input\n",
    "import numpy as np\n",
    "import PIL"
   ]
  },
  {
   "cell_type": "code",
   "execution_count": 60,
   "metadata": {},
   "outputs": [],
   "source": [
    "model = load_model('75_model.h5')"
   ]
  },
  {
   "cell_type": "code",
   "execution_count": 61,
   "metadata": {},
   "outputs": [],
   "source": [
    "import tensorflow as tf\n",
    "from tensorflow.keras.preprocessing import image\n",
    "import numpy as np\n",
    "\n",
    "img_path = r'/Users/Jay/Documents/CoH/path_to_save_image.jpg'\n",
    "\n",
    "img = image.load_img(img_path, target_size=(224, 224))\n",
    "\n",
    "img_array = image.img_to_array(img)\n",
    "\n",
    "preprocessed_img = preprocess_input(img_array)\n",
    "\n",
    "preprocessed_img /= 255.0\n",
    "\n",
    "preprocessed_img = np.expand_dims(preprocessed_img, axis=0)\n"
   ]
  },
  {
   "cell_type": "code",
   "execution_count": 62,
   "metadata": {},
   "outputs": [
    {
     "name": "stdout",
     "output_type": "stream",
     "text": [
      "1/1 - 0s - 152ms/epoch - 152ms/step\n"
     ]
    }
   ],
   "source": [
    "test_predictions = model.predict(x=preprocessed_img, verbose=2)"
   ]
  },
  {
   "cell_type": "code",
   "execution_count": 63,
   "metadata": {},
   "outputs": [
    {
     "name": "stdout",
     "output_type": "stream",
     "text": [
      "[[2.6928078e-09 6.6685223e-14 6.0883741e-15 1.7694827e-13 1.2484800e-24\n",
      "  3.9136194e-17 1.4402909e-15 7.7990050e-09 7.8349927e-10 2.8197318e-19\n",
      "  5.8735493e-13 3.7115160e-13 1.2951779e-07 5.4436249e-25 5.4768902e-17\n",
      "  2.4012620e-32 6.3491604e-17 1.5375862e-15 8.9818424e-01 2.5308486e-07\n",
      "  6.2071509e-03 9.5608249e-02 4.2275609e-08 1.6180147e-17 9.7000716e-14\n",
      "  1.9733499e-16 1.7471079e-12 1.9021908e-13 8.5578973e-22 8.1677334e-14\n",
      "  2.3246153e-24 4.5225872e-12 9.3433706e-18]]\n"
     ]
    }
   ],
   "source": [
    "print(test_predictions)"
   ]
  },
  {
   "cell_type": "code",
   "execution_count": 64,
   "metadata": {},
   "outputs": [
    {
     "name": "stdout",
     "output_type": "stream",
     "text": [
      "Apple___Apple_scab: 0.00%\n",
      "Apple___Black_rot: 0.00%\n",
      "Apple___Cedar_apple_rust: 0.00%\n",
      "Apple___healthy: 0.00%\n",
      "Cherry_(including_sour)___Powdery_mildew: 0.00%\n",
      "Cherry_(including_sour)___healthy: 0.00%\n",
      "Corn_(maize)___Cercospora_leaf_spot Gray_leaf_spot: 0.00%\n",
      "Corn_(maize)___Common_rust_: 0.00%\n",
      "Corn_(maize)___Northern_Leaf_Blight: 0.00%\n",
      "Corn_(maize)___healthy: 0.00%\n",
      "Grape___Black_rot: 0.00%\n",
      "Grape___Esca_(Black_Measles): 0.00%\n",
      "Grape___Leaf_blight_(Isariopsis_Leaf_Spot): 0.00%\n",
      "Grape___healthy: 0.00%\n",
      "Peach___Bacterial_spot: 0.00%\n",
      "Peach___healthy: 0.00%\n",
      "Pepper,_bell___Bacterial_spot: 0.00%\n",
      "Pepper,_bell___healthy: 0.00%\n",
      "Potato___Early_blight: 89.82%\n",
      "Potato___Late_blight: 0.00%\n",
      "Potato___healthy: 0.62%\n",
      "Strawberry___Leaf_scorch: 9.56%\n",
      "Strawberry___healthy: 0.00%\n",
      "Tomato___Bacterial_spot: 0.00%\n",
      "Tomato___Early_blight: 0.00%\n",
      "Tomato___Late_blight: 0.00%\n",
      "Tomato___Leaf_Mold: 0.00%\n",
      "Tomato___Septoria_leaf_spot: 0.00%\n",
      "Tomato___Spider_mites Two-spotted_spider_mite: 0.00%\n",
      "Tomato___Target_Spot: 0.00%\n",
      "Tomato___Tomato_Yellow_Leaf_Curl_Virus: 0.00%\n",
      "Tomato___Tomato_mosaic_virus: 0.00%\n",
      "Tomato___healthy: 0.00%\n",
      "Prediction: Potato___Early_blight\n"
     ]
    },
    {
     "data": {
      "text/plain": [
       "21"
      ]
     },
     "execution_count": 64,
     "metadata": {},
     "output_type": "execute_result"
    }
   ],
   "source": [
    "# List of class labels (replace with your actual labels)\n",
    "class_labels = ['Apple___Apple_scab', 'Apple___Black_rot', 'Apple___Cedar_apple_rust', 'Apple___healthy', 'Cherry_(including_sour)___Powdery_mildew', 'Cherry_(including_sour)___healthy', 'Corn_(maize)___Cercospora_leaf_spot Gray_leaf_spot', 'Corn_(maize)___Common_rust_', 'Corn_(maize)___Northern_Leaf_Blight', 'Corn_(maize)___healthy', 'Grape___Black_rot', 'Grape___Esca_(Black_Measles)', 'Grape___Leaf_blight_(Isariopsis_Leaf_Spot)', 'Grape___healthy', 'Peach___Bacterial_spot', 'Peach___healthy', 'Pepper,_bell___Bacterial_spot', 'Pepper,_bell___healthy', 'Potato___Early_blight', 'Potato___Late_blight', 'Potato___healthy', 'Strawberry___Leaf_scorch', 'Strawberry___healthy', 'Tomato___Bacterial_spot', 'Tomato___Early_blight', 'Tomato___Late_blight', 'Tomato___Leaf_Mold', 'Tomato___Septoria_leaf_spot', 'Tomato___Spider_mites Two-spotted_spider_mite', 'Tomato___Target_Spot', 'Tomato___Tomato_Yellow_Leaf_Curl_Virus', 'Tomato___Tomato_mosaic_virus', 'Tomato___healthy']\n",
    "\n",
    "# Display predictions with labels and sort according to the highest probability, save label of highest probability to variable\n",
    "for i in range(len(test_predictions[0])):\n",
    "    print(\"{}: {:.2f}%\".format(class_labels[i], test_predictions[0][i] * 100))\n",
    "    if test_predictions[0][i] == max(test_predictions[0]):\n",
    "        prediction = class_labels[i]\n",
    "print(\"Prediction: {}\".format(prediction))\n",
    "\n",
    "\n",
    "#write prediction to prediction.txt file\n",
    "file = open(\"predictions.txt\", \"w\")\n",
    "file.write(prediction)\n",
    "\n"
   ]
  },
  {
   "cell_type": "code",
   "execution_count": 65,
   "metadata": {},
   "outputs": [
    {
     "data": {
      "text/plain": [
       "21"
      ]
     },
     "execution_count": 65,
     "metadata": {},
     "output_type": "execute_result"
    }
   ],
   "source": [
    "file = open(\"predictions.txt\", \"w\")\n",
    "file.write(prediction)"
   ]
  }
 ],
 "metadata": {
  "kernelspec": {
   "display_name": "TF_oneLastTime",
   "language": "python",
   "name": "python3"
  },
  "language_info": {
   "codemirror_mode": {
    "name": "ipython",
    "version": 3
   },
   "file_extension": ".py",
   "mimetype": "text/x-python",
   "name": "python",
   "nbconvert_exporter": "python",
   "pygments_lexer": "ipython3",
   "version": "3.9.18"
  }
 },
 "nbformat": 4,
 "nbformat_minor": 2
}
