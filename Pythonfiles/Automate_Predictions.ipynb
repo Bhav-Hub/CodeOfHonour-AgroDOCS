{
 "cells": [
  {
   "cell_type": "code",
   "execution_count": 2,
   "metadata": {},
   "outputs": [
    {
     "name": "stdout",
     "output_type": "stream",
     "text": [
      "1/1 - 0s - 166ms/epoch - 166ms/step\n",
      "Apple___Apple_scab: 0.00%\n",
      "Apple___Black_rot: 0.00%\n",
      "Apple___Cedar_apple_rust: 0.00%\n",
      "Apple___healthy: 0.00%\n",
      "Cherry_(including_sour)___Powdery_mildew: 0.00%\n",
      "Cherry_(including_sour)___healthy: 0.00%\n",
      "Corn_(maize)___Cercospora_leaf_spot Gray_leaf_spot: 0.00%\n",
      "Corn_(maize)___Common_rust_: 0.00%\n",
      "Corn_(maize)___Northern_Leaf_Blight: 0.00%\n",
      "Corn_(maize)___healthy: 0.00%\n",
      "Grape___Black_rot: 0.00%\n",
      "Grape___Esca_(Black_Measles): 0.00%\n",
      "Grape___Leaf_blight_(Isariopsis_Leaf_Spot): 0.00%\n",
      "Grape___healthy: 0.00%\n",
      "Peach___Bacterial_spot: 0.00%\n",
      "Peach___healthy: 0.00%\n",
      "Pepper,_bell___Bacterial_spot: 0.00%\n",
      "Pepper,_bell___healthy: 0.00%\n",
      "Potato___Early_blight: 89.82%\n",
      "Potato___Late_blight: 0.00%\n",
      "Potato___healthy: 0.62%\n",
      "Strawberry___Leaf_scorch: 9.56%\n",
      "Strawberry___healthy: 0.00%\n",
      "Tomato___Bacterial_spot: 0.00%\n",
      "Tomato___Early_blight: 0.00%\n",
      "Tomato___Late_blight: 0.00%\n",
      "Tomato___Leaf_Mold: 0.00%\n",
      "Tomato___Septoria_leaf_spot: 0.00%\n",
      "Tomato___Spider_mites Two-spotted_spider_mite: 0.00%\n",
      "Tomato___Target_Spot: 0.00%\n",
      "Tomato___Tomato_Yellow_Leaf_Curl_Virus: 0.00%\n",
      "Tomato___Tomato_mosaic_virus: 0.00%\n",
      "Tomato___healthy: 0.00%\n",
      "Prediction: Potato___Early_blight\n"
     ]
    },
    {
     "name": "stderr",
     "output_type": "stream",
     "text": [
      "2023-11-05 18:35:45.750389: W tensorflow/tsl/platform/profile_utils/cpu_utils.cc:128] Failed to get CPU frequency: 0 Hz\n"
     ]
    }
   ],
   "source": [
    "import os\n",
    "import time\n",
    "\n",
    "from keras.models import load_model\n",
    "from keras.preprocessing.image import ImageDataGenerator\n",
    "from keras.applications import mobilenet\n",
    "from keras.preprocessing import image\n",
    "from keras.applications.mobilenet import preprocess_input\n",
    "import tensorflow as tf\n",
    "from tensorflow.keras.preprocessing import image\n",
    "import numpy as np\n",
    "\n",
    "# Load the pre-trained model\n",
    "model = load_model('75_model.h5')\n",
    "\n",
    "# Set the path to your image\n",
    "img_path = r'/Users/Jay/Documents/CoH/path_to_save_image.jpg'\n",
    "\n",
    "while True:\n",
    "    # Check if the image file exists\n",
    "    if os.path.exists(img_path):\n",
    "        # Load and preprocess the image\n",
    "        img = image.load_img(img_path, target_size=(224, 224))\n",
    "        img_array = image.img_to_array(img)\n",
    "        preprocessed_img = preprocess_input(img_array)\n",
    "        preprocessed_img /= 255.0\n",
    "        preprocessed_img = np.expand_dims(preprocessed_img, axis=0)\n",
    "\n",
    "        # Make predictions\n",
    "        test_predictions = model.predict(x=preprocessed_img, verbose=2)\n",
    "\n",
    "        # List of class labels (replace with your actual labels)\n",
    "        class_labels = ['Apple___Apple_scab', 'Apple___Black_rot', 'Apple___Cedar_apple_rust', 'Apple___healthy', 'Cherry_(including_sour)___Powdery_mildew', 'Cherry_(including_sour)___healthy', 'Corn_(maize)___Cercospora_leaf_spot Gray_leaf_spot', 'Corn_(maize)___Common_rust_', 'Corn_(maize)___Northern_Leaf_Blight', 'Corn_(maize)___healthy', 'Grape___Black_rot', 'Grape___Esca_(Black_Measles)', 'Grape___Leaf_blight_(Isariopsis_Leaf_Spot)', 'Grape___healthy', 'Peach___Bacterial_spot', 'Peach___healthy', 'Pepper,_bell___Bacterial_spot', 'Pepper,_bell___healthy', 'Potato___Early_blight', 'Potato___Late_blight', 'Potato___healthy', 'Strawberry___Leaf_scorch', 'Strawberry___healthy', 'Tomato___Bacterial_spot', 'Tomato___Early_blight', 'Tomato___Late_blight', 'Tomato___Leaf_Mold', 'Tomato___Septoria_leaf_spot', 'Tomato___Spider_mites Two-spotted_spider_mite', 'Tomato___Target_Spot', 'Tomato___Tomato_Yellow_Leaf_Curl_Virus', 'Tomato___Tomato_mosaic_virus', 'Tomato___healthy']\n",
    "\n",
    "        # Find the index of the class with the highest probability\n",
    "        max_prob_index = np.argmax(test_predictions)\n",
    "\n",
    "        # Get the label of the class with the highest probability\n",
    "        prediction = class_labels[max_prob_index]\n",
    "\n",
    "        # Display predictions with labels\n",
    "        for i in range(len(test_predictions[0])):\n",
    "            print(\"{}: {:.2f}%\".format(class_labels[i], test_predictions[0][i] * 100))\n",
    "\n",
    "        # Display the final prediction\n",
    "        print(\"Prediction: {}\".format(prediction))\n",
    "\n",
    "        # Write prediction to a text file\n",
    "        with open(\"prediction.txt\", \"w\") as file:\n",
    "            file.write(prediction)\n",
    "\n",
    "        with open(\"prediction.txt\", \"w\") as file:\n",
    "            file.write(prediction)\n",
    "\n",
    "        # Remove the processed image\n",
    "        os.remove(img_path)\n",
    "        break\n",
    "    else:\n",
    "        # Image not found, wait for a while before checking again\n",
    "        time.sleep(5)  # Wait for 10 seconds before checking again\n",
    "\n"
   ]
  },
  {
   "cell_type": "code",
   "execution_count": 3,
   "metadata": {},
   "outputs": [],
   "source": [
    "# import subprocess\n",
    "\n",
    "# # Specify the path to the Python script you want to run\n",
    "# script_to_run = \"/Users/Jay/Documents/CoH/Pythonfiles/FLASK_Server.py\"\n",
    "\n",
    "# # Run the script\n",
    "# subprocess.call([\"python\", script_to_run])\n"
   ]
  }
 ],
 "metadata": {
  "kernelspec": {
   "display_name": "tf_env",
   "language": "python",
   "name": "python3"
  },
  "language_info": {
   "codemirror_mode": {
    "name": "ipython",
    "version": 3
   },
   "file_extension": ".py",
   "mimetype": "text/x-python",
   "name": "python",
   "nbconvert_exporter": "python",
   "pygments_lexer": "ipython3",
   "version": "3.9.18"
  }
 },
 "nbformat": 4,
 "nbformat_minor": 2
}
